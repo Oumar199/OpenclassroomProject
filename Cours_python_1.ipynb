{
  "nbformat": 4,
  "nbformat_minor": 0,
  "metadata": {
    "kernelspec": {
      "display_name": "Python 3",
      "language": "python",
      "name": "python3"
    },
    "language_info": {
      "codemirror_mode": {
        "name": "ipython",
        "version": 3
      },
      "file_extension": ".py",
      "mimetype": "text/x-python",
      "name": "python",
      "nbconvert_exporter": "python",
      "pygments_lexer": "ipython3",
      "version": "3.7.6"
    },
    "colab": {
      "name": "Cours python 1.ipynb",
      "provenance": [],
      "collapsed_sections": [],
      "include_colab_link": true
    }
  },
  "cells": [
    {
      "cell_type": "markdown",
      "metadata": {
        "id": "view-in-github",
        "colab_type": "text"
      },
      "source": [
        "<a href=\"https://colab.research.google.com/github/Oumar199/OpenclassroomProject/blob/main/Cours_python_1.ipynb\" target=\"_parent\"><img src=\"https://colab.research.google.com/assets/colab-badge.svg\" alt=\"Open In Colab\"/></a>"
      ]
    },
    {
      "cell_type": "markdown",
      "metadata": {
        "id": "ZsdfFnfwmaCk"
      },
      "source": [
        "## Premier programme python avec Bousso :\n",
        "Python est un langage non typé"
      ]
    },
    {
      "cell_type": "code",
      "metadata": {
        "id": "CKv8F-NVmaCx",
        "outputId": "2b3a3120-8373-4e23-9408-c3eea11663e3"
      },
      "source": [
        "a = 2\n",
        "type(a)"
      ],
      "execution_count": null,
      "outputs": [
        {
          "output_type": "execute_result",
          "data": {
            "text/plain": [
              "int"
            ]
          },
          "metadata": {
            "tags": []
          },
          "execution_count": 1
        }
      ]
    },
    {
      "cell_type": "code",
      "metadata": {
        "id": "dmyNbKPCmaC1",
        "outputId": "72c2a6b4-047c-4977-b61e-f260c3982d63"
      },
      "source": [
        "a = 3.0\n",
        "type(a)"
      ],
      "execution_count": null,
      "outputs": [
        {
          "output_type": "execute_result",
          "data": {
            "text/plain": [
              "float"
            ]
          },
          "metadata": {
            "tags": []
          },
          "execution_count": 2
        }
      ]
    },
    {
      "cell_type": "code",
      "metadata": {
        "id": "cfAgdlSZmaC2",
        "outputId": "8f879e7b-115f-4dd5-fe79-4f7374faad1b"
      },
      "source": [
        "a = \"Mamadou\"\n",
        "type(a)"
      ],
      "execution_count": null,
      "outputs": [
        {
          "output_type": "execute_result",
          "data": {
            "text/plain": [
              "str"
            ]
          },
          "metadata": {
            "tags": []
          },
          "execution_count": 3
        }
      ]
    },
    {
      "cell_type": "code",
      "metadata": {
        "id": "bzaWfDDkmaC4",
        "outputId": "b01adb8e-bc5b-41de-a386-9fe2e48cd056"
      },
      "source": [
        "a = True\n",
        "type(a)"
      ],
      "execution_count": null,
      "outputs": [
        {
          "output_type": "execute_result",
          "data": {
            "text/plain": [
              "bool"
            ]
          },
          "metadata": {
            "tags": []
          },
          "execution_count": 4
        }
      ]
    },
    {
      "cell_type": "markdown",
      "metadata": {
        "id": "taJ2nwmamaC5"
      },
      "source": [
        "### Conversion:\n"
      ]
    },
    {
      "cell_type": "markdown",
      "metadata": {
        "id": "KM5m0MZNmaC6"
      },
      "source": [
        "En entier:"
      ]
    },
    {
      "cell_type": "code",
      "metadata": {
        "id": "TM6xhyycmaC6",
        "outputId": "b4ad922c-c85a-478b-8017-d1722da45a41"
      },
      "source": [
        "int(3.934)"
      ],
      "execution_count": null,
      "outputs": [
        {
          "output_type": "execute_result",
          "data": {
            "text/plain": [
              "3"
            ]
          },
          "metadata": {
            "tags": []
          },
          "execution_count": 6
        }
      ]
    },
    {
      "cell_type": "code",
      "metadata": {
        "id": "Vlykx7iimaC7",
        "outputId": "4a0b2bb9-0ce1-4353-9498-389b2bd1cb99"
      },
      "source": [
        "int(True)"
      ],
      "execution_count": null,
      "outputs": [
        {
          "output_type": "execute_result",
          "data": {
            "text/plain": [
              "1"
            ]
          },
          "metadata": {
            "tags": []
          },
          "execution_count": 12
        }
      ]
    },
    {
      "cell_type": "code",
      "metadata": {
        "id": "FZ6eZRjFmaC7",
        "outputId": "7f123fa0-c4c3-4f87-866c-b3b49237bb79"
      },
      "source": [
        "int(False)"
      ],
      "execution_count": null,
      "outputs": [
        {
          "output_type": "execute_result",
          "data": {
            "text/plain": [
              "0"
            ]
          },
          "metadata": {
            "tags": []
          },
          "execution_count": 13
        }
      ]
    },
    {
      "cell_type": "markdown",
      "metadata": {
        "id": "xorxvIO8maC8"
      },
      "source": [
        "En float :"
      ]
    },
    {
      "cell_type": "code",
      "metadata": {
        "id": "Ikb2jXyDmaC9",
        "outputId": "d91b6d2a-5413-46b0-c28c-5b777d4db6a7"
      },
      "source": [
        "float(\"3.45\")"
      ],
      "execution_count": null,
      "outputs": [
        {
          "output_type": "execute_result",
          "data": {
            "text/plain": [
              "3.45"
            ]
          },
          "metadata": {
            "tags": []
          },
          "execution_count": 7
        }
      ]
    },
    {
      "cell_type": "markdown",
      "metadata": {
        "id": "POZTlv7RmaC-"
      },
      "source": [
        "En string :"
      ]
    },
    {
      "cell_type": "code",
      "metadata": {
        "id": "AV1wsoEUmaC-",
        "outputId": "9544b988-e147-497d-dd4e-f3c2783f741e"
      },
      "source": [
        "str(184)"
      ],
      "execution_count": null,
      "outputs": [
        {
          "output_type": "execute_result",
          "data": {
            "text/plain": [
              "'184'"
            ]
          },
          "metadata": {
            "tags": []
          },
          "execution_count": 11
        }
      ]
    },
    {
      "cell_type": "code",
      "metadata": {
        "id": "ZDHD9gLWmaC_",
        "outputId": "5e3d1ac6-c2d2-473a-f64a-ab753095d2a7"
      },
      "source": [
        "str(True)"
      ],
      "execution_count": null,
      "outputs": [
        {
          "output_type": "execute_result",
          "data": {
            "text/plain": [
              "'True'"
            ]
          },
          "metadata": {
            "tags": []
          },
          "execution_count": 14
        }
      ]
    },
    {
      "cell_type": "markdown",
      "metadata": {
        "id": "RWhKmWwRmaDA"
      },
      "source": [
        "### Les sorties"
      ]
    },
    {
      "cell_type": "code",
      "metadata": {
        "id": "ifXMbgfgmaDB",
        "outputId": "50e7bb6c-c4b4-4d4c-d0c5-35566dbea334"
      },
      "source": [
        "print(\"mes guillemets\")"
      ],
      "execution_count": null,
      "outputs": [
        {
          "output_type": "stream",
          "text": [
            "mes guillemets\n"
          ],
          "name": "stdout"
        }
      ]
    },
    {
      "cell_type": "code",
      "metadata": {
        "id": "4SP7eVXFmaDC",
        "outputId": "4a9fbf22-70b9-4517-ae9a-2d6af234c32e"
      },
      "source": [
        "print(\" \\\"mes guillemets\\\"\")"
      ],
      "execution_count": null,
      "outputs": [
        {
          "output_type": "stream",
          "text": [
            " \"mes guillemets\"\n"
          ],
          "name": "stdout"
        }
      ]
    },
    {
      "cell_type": "markdown",
      "metadata": {
        "id": "vjf063lCmaDD"
      },
      "source": [
        "### Commentaires :"
      ]
    },
    {
      "cell_type": "markdown",
      "metadata": {
        "id": "M_FKXXG9frIk"
      },
      "source": [
        "Le docstring :"
      ]
    },
    {
      "cell_type": "code",
      "metadata": {
        "id": "HBzoWJ7cmaDD",
        "outputId": "a02255b3-3970-42aa-dc92-0788c9807220"
      },
      "source": [
        "'''Fonction permettant de faire de la soustraction'''"
      ],
      "execution_count": null,
      "outputs": [
        {
          "output_type": "execute_result",
          "data": {
            "text/plain": [
              "'Fonction permettant de faire de la soustraction'"
            ]
          },
          "metadata": {
            "tags": []
          },
          "execution_count": 10
        }
      ]
    },
    {
      "cell_type": "markdown",
      "metadata": {
        "id": "f8LiXxNamaDE"
      },
      "source": [
        "### Immutabilité :"
      ]
    },
    {
      "cell_type": "markdown",
      "metadata": {
        "id": "6o6MEvKKmaDF"
      },
      "source": [
        "Les chaines de caracteres ne sont pas immutables (ont ne peut pas les modifiees)"
      ]
    },
    {
      "cell_type": "code",
      "metadata": {
        "id": "P2IuakZ_maDF"
      },
      "source": [
        "a = \"Mamadou\""
      ],
      "execution_count": null,
      "outputs": []
    },
    {
      "cell_type": "code",
      "metadata": {
        "id": "xOxEb3vqmaDG"
      },
      "source": [
        "a = a*6"
      ],
      "execution_count": null,
      "outputs": []
    },
    {
      "cell_type": "code",
      "metadata": {
        "id": "Y5kbOKF7maDH",
        "outputId": "bfe15bcd-a648-4cd9-f595-0ca10f54fa34"
      },
      "source": [
        "a"
      ],
      "execution_count": null,
      "outputs": [
        {
          "output_type": "execute_result",
          "data": {
            "text/plain": [
              "'MamadouMamadouMamadouMamadouMamadouMamadou'"
            ]
          },
          "metadata": {
            "tags": []
          },
          "execution_count": 18
        }
      ]
    },
    {
      "cell_type": "markdown",
      "metadata": {
        "id": "mvpKdQ7lmaDI"
      },
      "source": [
        "Le nouveau a n'est pas le meme que l'encien"
      ]
    },
    {
      "cell_type": "markdown",
      "metadata": {
        "id": "1oZiGONbmaDI"
      },
      "source": [
        "### Operations :"
      ]
    },
    {
      "cell_type": "markdown",
      "metadata": {
        "id": "jQ4SKpx3maDJ"
      },
      "source": [
        "Nous avons les operandes (variables, etc), operateurs (+, *, ...), expressions lient les deux precedents"
      ]
    },
    {
      "cell_type": "markdown",
      "metadata": {
        "id": "tHq8UoBmmaDJ"
      },
      "source": [
        "Exemple :"
      ]
    },
    {
      "cell_type": "code",
      "metadata": {
        "id": "BeSciaY6maDK",
        "outputId": "915b6e8c-a02c-4aff-ca17-7f5161ff8a17"
      },
      "source": [
        "20 + 6"
      ],
      "execution_count": null,
      "outputs": [
        {
          "output_type": "execute_result",
          "data": {
            "text/plain": [
              "26"
            ]
          },
          "metadata": {
            "tags": []
          },
          "execution_count": 19
        }
      ]
    },
    {
      "cell_type": "code",
      "metadata": {
        "id": "-zCimeyamaDK",
        "outputId": "d99cda98-55fd-488c-d426-51732049a31a"
      },
      "source": [
        "28 + 2.0"
      ],
      "execution_count": null,
      "outputs": [
        {
          "output_type": "execute_result",
          "data": {
            "text/plain": [
              "30.0"
            ]
          },
          "metadata": {
            "tags": []
          },
          "execution_count": 20
        }
      ]
    },
    {
      "cell_type": "code",
      "metadata": {
        "id": "CqnwhEormaDK",
        "outputId": "2a3929da-a74e-453c-93e7-b3855c6d4ab8"
      },
      "source": [
        "20 / 3"
      ],
      "execution_count": null,
      "outputs": [
        {
          "output_type": "execute_result",
          "data": {
            "text/plain": [
              "6.666666666666667"
            ]
          },
          "metadata": {
            "tags": []
          },
          "execution_count": 21
        }
      ]
    },
    {
      "cell_type": "code",
      "metadata": {
        "id": "Es-xhSiZmaDL",
        "outputId": "2a54ea48-d537-4dce-bad9-17f66849d459"
      },
      "source": [
        "20 // 3"
      ],
      "execution_count": null,
      "outputs": [
        {
          "output_type": "execute_result",
          "data": {
            "text/plain": [
              "6"
            ]
          },
          "metadata": {
            "tags": []
          },
          "execution_count": 22
        }
      ]
    },
    {
      "cell_type": "code",
      "metadata": {
        "id": "Wsx-VCmhmaDL",
        "outputId": "70ea291a-f015-4ff3-bc1c-8cd123c620dd"
      },
      "source": [
        "34 == 2 * 17"
      ],
      "execution_count": null,
      "outputs": [
        {
          "output_type": "execute_result",
          "data": {
            "text/plain": [
              "True"
            ]
          },
          "metadata": {
            "tags": []
          },
          "execution_count": 23
        }
      ]
    },
    {
      "cell_type": "code",
      "metadata": {
        "id": "-cmGsnRomaDM",
        "outputId": "825cf67b-ec7f-40ec-be83-84d43f796d93"
      },
      "source": [
        "int(34 == 2*17)"
      ],
      "execution_count": null,
      "outputs": [
        {
          "output_type": "execute_result",
          "data": {
            "text/plain": [
              "1"
            ]
          },
          "metadata": {
            "tags": []
          },
          "execution_count": 24
        }
      ]
    },
    {
      "cell_type": "code",
      "metadata": {
        "id": "XVhOZVJhmaDM",
        "outputId": "00f2dfb9-ae87-4b9e-ff23-ced75fa8d6ed"
      },
      "source": [
        "not 16/2 ** 2 + 10 != 15 % 8*2 and 0.5 ** -2/2*5 >= 10 ** 2 ** (1/2)"
      ],
      "execution_count": null,
      "outputs": [
        {
          "output_type": "execute_result",
          "data": {
            "text/plain": [
              "False"
            ]
          },
          "metadata": {
            "tags": []
          },
          "execution_count": 25
        }
      ]
    },
    {
      "cell_type": "markdown",
      "metadata": {
        "id": "YO9UgZjwmaDM"
      },
      "source": [
        "### Affectation multiple :"
      ]
    },
    {
      "cell_type": "markdown",
      "metadata": {
        "id": "CF3sIEmEmaDN"
      },
      "source": [
        "exemple :"
      ]
    },
    {
      "cell_type": "code",
      "metadata": {
        "id": "WQA54VcLmaDN"
      },
      "source": [
        "a, b = 3, 4"
      ],
      "execution_count": null,
      "outputs": []
    },
    {
      "cell_type": "code",
      "metadata": {
        "id": "GcfuSnfQmaDN",
        "outputId": "1aed66d2-c51e-405d-d310-e9619809d80f"
      },
      "source": [
        "a "
      ],
      "execution_count": null,
      "outputs": [
        {
          "output_type": "execute_result",
          "data": {
            "text/plain": [
              "3"
            ]
          },
          "metadata": {
            "tags": []
          },
          "execution_count": 27
        }
      ]
    },
    {
      "cell_type": "code",
      "metadata": {
        "id": "yg-e-_N1maDO",
        "outputId": "9d72ffa8-5609-484f-cf98-4ac4c945874c"
      },
      "source": [
        "b"
      ],
      "execution_count": null,
      "outputs": [
        {
          "output_type": "execute_result",
          "data": {
            "text/plain": [
              "4"
            ]
          },
          "metadata": {
            "tags": []
          },
          "execution_count": 28
        }
      ]
    },
    {
      "cell_type": "markdown",
      "metadata": {
        "id": "CKvaj2RZmaDO"
      },
      "source": [
        "Il n'est pas symetrique"
      ]
    },
    {
      "cell_type": "markdown",
      "metadata": {
        "id": "OcJ18jKdmaDP"
      },
      "source": [
        "### Programme :"
      ]
    },
    {
      "cell_type": "markdown",
      "metadata": {
        "id": "mJopwm6EmaDP"
      },
      "source": [
        "Exemple : Calcul de la surface du cercle"
      ]
    },
    {
      "cell_type": "code",
      "metadata": {
        "id": "3e9Q1_S8maDP"
      },
      "source": [
        "#constante\n",
        "import math as m\n",
        "#rayon\n",
        "rayon = 2.8\n",
        "#surface\n",
        "surface = rayon ** 2 * m.pi"
      ],
      "execution_count": null,
      "outputs": []
    },
    {
      "cell_type": "code",
      "metadata": {
        "id": "72EPC_-ZmaDQ",
        "outputId": "d3601b69-687b-41e4-9b40-847d2fdf929c"
      },
      "source": [
        "print(surface)"
      ],
      "execution_count": null,
      "outputs": [
        {
          "output_type": "stream",
          "text": [
            "24.630086404143974\n"
          ],
          "name": "stdout"
        }
      ]
    }
  ]
}