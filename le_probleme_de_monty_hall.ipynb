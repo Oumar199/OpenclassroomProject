{
  "nbformat": 4,
  "nbformat_minor": 0,
  "metadata": {
    "kernelspec": {
      "display_name": "Python 3",
      "language": "python",
      "name": "python3"
    },
    "language_info": {
      "codemirror_mode": {
        "name": "ipython",
        "version": 3
      },
      "file_extension": ".py",
      "mimetype": "text/x-python",
      "name": "python",
      "nbconvert_exporter": "python",
      "pygments_lexer": "ipython3",
      "version": "3.7.6"
    },
    "colab": {
      "name": "le probleme de monty hall.ipynb",
      "provenance": [],
      "collapsed_sections": [],
      "include_colab_link": true
    }
  },
  "cells": [
    {
      "cell_type": "markdown",
      "metadata": {
        "id": "view-in-github",
        "colab_type": "text"
      },
      "source": [
        "<a href=\"https://colab.research.google.com/github/Oumar199/OpenclassroomProject/blob/main/le_probleme_de_monty_hall.ipynb\" target=\"_parent\"><img src=\"https://colab.research.google.com/assets/colab-badge.svg\" alt=\"Open In Colab\"/></a>"
      ]
    },
    {
      "cell_type": "markdown",
      "metadata": {
        "id": "sckv3USkZ9gY"
      },
      "source": [
        "#  Le probleme de monty hall\n"
      ]
    },
    {
      "cell_type": "markdown",
      "metadata": {
        "id": "r4nHKUwaan1Z"
      },
      "source": [
        "## Simulation "
      ]
    },
    {
      "cell_type": "markdown",
      "metadata": {
        "id": "9iuRhogIa1eL"
      },
      "source": [
        "### Génération d'une seule partie de jeu"
      ]
    },
    {
      "cell_type": "markdown",
      "metadata": {
        "id": "_VvLCgqtcuXu"
      },
      "source": [
        "Préparons un environnement  de travail dans notebook :"
      ]
    },
    {
      "cell_type": "code",
      "metadata": {
        "id": "STfy1pznY8EJ"
      },
      "source": [
        "#Pour afficher les graphiques dans la continuité du code et non dans une fenetre a part :\n",
        "%matplotlib inline\n",
        "\n",
        "#Pour utiliser la fonction randint qui permet de generer des nombres entiers aleatoires :\n",
        "from random import randint, seed\n",
        "\n",
        "#Un Enum est une structure de donnees qui consiste en un ensemble d'elements nommes, \n",
        "#Une variable de ce type peut avoir comme valeur un de ces elements\n",
        "from enum import Enum\n",
        "\n",
        "#Pour pouvoir afficher des graphiques\n",
        "import matplotlib.pyplot as plt"
      ],
      "execution_count": 2,
      "outputs": []
    },
    {
      "cell_type": "markdown",
      "metadata": {
        "id": "a7DqE2vCc4AL"
      },
      "source": [
        "### Les stratégies du joueur"
      ]
    },
    {
      "cell_type": "code",
      "metadata": {
        "id": "hrbZQN5rY8ET"
      },
      "source": [
        "# Ici nous définissons une sous-classe de Enum, qui contiendra \n",
        "# les stratégies possibles\n",
        "class Strategie(Enum):\n",
        "  CHANGER = 1\n",
        "  GARDER = 2"
      ],
      "execution_count": 4,
      "outputs": []
    },
    {
      "cell_type": "code",
      "metadata": {
        "id": "lbmtNpCXfSeR"
      },
      "source": [
        "# Utilise l'horloge système pour initialiser le générateur de \n",
        "# nombres pseudo-aléatoires.\n",
        "seed()\n",
        "\n",
        "def play_game(strategie):\n",
        "  '''Simule une partie du jeu Monty Hall.\n",
        "\n",
        "  Cette fonction simule le choix de la porte par le participant,\n",
        "  l'élimination d'une mauvaise porte par le présentateur, et le \n",
        "  choix final. Elle ne retourne que le résultat de la partie, parce\n",
        "  que nous n'aurons besoin que du résultat pour effectuer nos calculs.\n",
        "\n",
        "  Args:\n",
        "    strategie (Strategie): La stratégie du joueur\n",
        "\n",
        "  Returns:\n",
        "    bool: le joueur a-t-il gagné?\n",
        "  '''\n",
        "  portes = [0, 1, 2]\n",
        "  \n",
        "  bonne_porte = randint(0, 2)\n",
        "\n",
        "  # Choix du joueur\n",
        "  premier_choix = randint(0, 2)\n",
        "\n",
        "  # Il nous reste deux portes\n",
        "  portes.remove(premier_choix)\n",
        "\n",
        "  #Le présentateur élimine une porte\n",
        "  if premier_choix == bonne_porte:\n",
        "    portes.remove(portes[randint(0, 1)])\n",
        "  else:\n",
        "    portes = [bonne_porte]\n",
        "\n",
        "  deuxieme_choix = 0\n",
        "  #Le deuxieme choix depend de la strategie\n",
        "  if strategie == Strategie.CHANGER:\n",
        "    deuxieme_choix = portes[0]\n",
        "  elif strategie == Strategie.GARDER:\n",
        "    deuxieme_choix = premier_choix\n",
        "  else:\n",
        "    raise ValueError(\"Stratégie non reconnue!\")\n",
        "\n",
        "  return deuxieme_choix == bonne_porte"
      ],
      "execution_count": 7,
      "outputs": []
    },
    {
      "cell_type": "markdown",
      "metadata": {
        "id": "BWa4KnZ2kIKq"
      },
      "source": [
        "## Simulation de plusieurs parties"
      ]
    },
    {
      "cell_type": "markdown",
      "metadata": {
        "id": "yaCVq3p1kTsC"
      },
      "source": [
        "Pour vérifier si le résultat de la fonction est aléatoire appelons la plusieurs fois"
      ]
    },
    {
      "cell_type": "code",
      "metadata": {
        "colab": {
          "base_uri": "https://localhost:8080/"
        },
        "id": "FvoNgxC-gQWx",
        "outputId": "389bed82-36ed-4191-e50f-689e27e6c750"
      },
      "source": [
        "play_game(Strategie.CHANGER)"
      ],
      "execution_count": 20,
      "outputs": [
        {
          "output_type": "execute_result",
          "data": {
            "text/plain": [
              "True"
            ]
          },
          "metadata": {
            "tags": []
          },
          "execution_count": 20
        }
      ]
    },
    {
      "cell_type": "markdown",
      "metadata": {
        "id": "m5OCAL-0lK6R"
      },
      "source": [
        "Nous allons stocker à présent les résultats dans une liste. Donc créons une fonction nous permettant de le faire"
      ]
    },
    {
      "cell_type": "code",
      "metadata": {
        "id": "VpCKG78lk2hl"
      },
      "source": [
        "def play(strategie, nb_tours):\n",
        "  '''Simule une suite de tours du jeu.\n",
        "\n",
        "  Cette fonction renvoie les résultats de plusieurs parties \n",
        "  du jeu Monty Hall sous forme d'une liste de gains par le \n",
        "  joueur.\n",
        "\n",
        "  Args:\n",
        "    strategie (Strategie): La strategie du joueur\n",
        "    nb_tours (int): Nombre de tours\n",
        "\n",
        "  Returns:\n",
        "    list: Liste des gains du joueurs à chaque partie\n",
        "  '''\n",
        "\n",
        "  #Ceci est une liste en compréhension\n",
        "  return [1 if play_game(strategie) else 0 for i in range(nb_tours)]"
      ],
      "execution_count": 22,
      "outputs": []
    },
    {
      "cell_type": "markdown",
      "metadata": {
        "id": "9tTCwvGam2uA"
      },
      "source": [
        "## Analyse des résultats\n"
      ]
    },
    {
      "cell_type": "code",
      "metadata": {
        "colab": {
          "base_uri": "https://localhost:8080/"
        },
        "id": "Ebrm0uiwnEPd",
        "outputId": "3c14cbce-905b-4da8-b2be-620725b6cabb"
      },
      "source": [
        "print(\"En changeant de porte, le joueur a gagné {} sur 10000 parties.\".format(sum(play(Strategie.CHANGER, 10000))))\n",
        "print(\"En gardant son choix initial, le joueur a gagné {} sur 10000 parties.\".format(sum(play(Strategie.GARDER, 10000))))"
      ],
      "execution_count": 27,
      "outputs": [
        {
          "output_type": "stream",
          "text": [
            "En changeant de porte, le joueur a gagné 6642 sur 10000 parties.\n",
            "En gardant son choix initial, le joueur a gagné 3382 sur 10000 parties.\n"
          ],
          "name": "stdout"
        }
      ]
    },
    {
      "cell_type": "markdown",
      "metadata": {
        "id": "hRp_dyH5oKeC"
      },
      "source": [
        "## Visualisation"
      ]
    },
    {
      "cell_type": "markdown",
      "metadata": {
        "id": "zQ89x13FoZYS"
      },
      "source": [
        "### La fonction *plot*\n"
      ]
    },
    {
      "cell_type": "code",
      "metadata": {
        "colab": {
          "base_uri": "https://localhost:8080/",
          "height": 265
        },
        "id": "vglw9EXYndXX",
        "outputId": "71d09a94-f006-4d9a-e366-cce07138fe4f"
      },
      "source": [
        "#plot renvoie un objet, que l'on pourra manipuler plus tard pour\n",
        "#personnaliser le graphique\n",
        "plot = plt.plot(play(Strategie.CHANGER, 10))"
      ],
      "execution_count": 31,
      "outputs": [
        {
          "output_type": "display_data",
          "data": {
            "image/png": "[encoded data removed]",
            "text/plain": [
              "<Figure size 432x288 with 1 Axes>"
            ]
          },
          "metadata": {
            "tags": [],
            "needs_background": "light"
          }
        }
      ]
    },
    {
      "cell_type": "markdown",
      "metadata": {
        "id": "uXlafOOHpEC8"
      },
      "source": [
        "Essayons de créer un graphique avec 10000 points."
      ]
    },
    {
      "cell_type": "code",
      "metadata": {
        "colab": {
          "base_uri": "https://localhost:8080/",
          "height": 265
        },
        "id": "000OgcOEnjKA",
        "outputId": "dd143b6e-044f-47b1-bb6e-5a3a2f761b96"
      },
      "source": [
        "plot = plt.plot(play(Strategie.CHANGER, 10000))"
      ],
      "execution_count": 32,
      "outputs": [
        {
          "output_type": "display_data",
          "data": {
            "image/png": "[encoded data removed]",
            "text/plain": [
              "<Figure size 432x288 with 1 Axes>"
            ]
          },
          "metadata": {
            "tags": [],
            "needs_background": "light"
          }
        }
      ]
    },
    {
      "cell_type": "markdown",
      "metadata": {
        "id": "2SrqMmclpiTh"
      },
      "source": [
        "Le carré que vous voyez est dû au fait que  plot  relie les points que nous lui demandons de placer sur le graphe par des lignes. Ce sont ces lignes qui recouvrent toute la surface du graphe, et non pas les points que nous voudrions en fait voir."
      ]
    },
    {
      "cell_type": "markdown",
      "metadata": {
        "id": "3IwyT88_pp_p"
      },
      "source": [
        "De manière générale, ces lignes peuvent être trompeuses, parce qu'elles peuvent aussi donner l'impression que nous avons des données entre deux points, alors que ce n'est pas le cas. Pour cette raison, nous allons placer les points sur le graphe sans les relier entre eux."
      ]
    },
    {
      "cell_type": "markdown",
      "metadata": {
        "id": "CQV1wphyp24g"
      },
      "source": [
        "#### La fonction scatter"
      ]
    },
    {
      "cell_type": "code",
      "metadata": {
        "colab": {
          "base_uri": "https://localhost:8080/",
          "height": 265
        },
        "id": "c74KS-azpW6A",
        "outputId": "a100a760-5594-476e-869f-a1794ca0242b"
      },
      "source": [
        "plot = plt.scatter(range(10000), play(Strategie.CHANGER, 10000))"
      ],
      "execution_count": 33,
      "outputs": [
        {
          "output_type": "display_data",
          "data": {
            "image/png": "[encoded data removed]",
            "text/plain": [
              "<Figure size 432x288 with 1 Axes>"
            ]
          },
          "metadata": {
            "tags": [],
            "needs_background": "light"
          }
        }
      ]
    },
    {
      "cell_type": "markdown",
      "metadata": {
        "id": "a7atqoYdqQPT"
      },
      "source": [
        "La fonction  scatter  se comporte comme  plot, mais ne relie pas les points entre eux. Ici nous voyons bien que nos points sont bien situés là où ils doivent être."
      ]
    },
    {
      "cell_type": "markdown",
      "metadata": {
        "id": "cKpTfc4Lqdv3"
      },
      "source": [
        "Une compétence essentielle pour tout data scientist est de savoir présenter les résultats dans le bon format. Dans notre cas, nous voulons montrer la différence entre les gains des deux stratégies."
      ]
    },
    {
      "cell_type": "markdown",
      "metadata": {
        "id": "KCnQ7fRUqjNc"
      },
      "source": [
        "#### La fonction bar"
      ]
    },
    {
      "cell_type": "code",
      "metadata": {
        "colab": {
          "base_uri": "https://localhost:8080/",
          "height": 267
        },
        "id": "mauYvGsoqHG3",
        "outputId": "061987d3-d2e9-40e9-a70d-6f98d6e371e5"
      },
      "source": [
        "plot = plt.bar([1, 2], [sum(play(Strategie.CHANGER, 10000)), sum(play(Strategie.GARDER, 10000))], tick_label = [\"Changer\", \"Garder\"])"
      ],
      "execution_count": 34,
      "outputs": [
        {
          "output_type": "display_data",
          "data": {
            "image/png": "[encoded data removed]",
            "text/plain": [
              "<Figure size 432x288 with 1 Axes>"
            ]
          },
          "metadata": {
            "tags": [],
            "needs_background": "light"
          }
        }
      ]
    },
    {
      "cell_type": "markdown",
      "metadata": {
        "id": "ebSxNygRrPpt"
      },
      "source": [
        "### Visualiser une liste de nombres"
      ]
    },
    {
      "cell_type": "markdown",
      "metadata": {
        "id": "k1TnDmnNrhp8"
      },
      "source": [
        "Nous pouvons vérifier que notre programme se comporte de manière raisonnable si nous détectons une relation linéaire entre les gains des joueurs et le nombre de parties qu'ils ont joué."
      ]
    },
    {
      "cell_type": "code",
      "metadata": {
        "id": "t5sbIP6Uq8k2"
      },
      "source": [
        "gains_changer = []\n",
        "gains_garder = []\n",
        "samples = [1000, 10000, 20000, 50000, 80000, 100000]\n",
        "for tours in samples:\n",
        "  gains_changer.append(play(Strategie.CHANGER, tours))\n",
        "  gains_garder.append(play(Strategie.GARDER, tours))"
      ],
      "execution_count": 35,
      "outputs": []
    },
    {
      "cell_type": "markdown",
      "metadata": {
        "id": "YgX3N5GhsB_q"
      },
      "source": [
        "Nous avons maintenant deux listes. L'une contenant les gains d'un joueur qui change de porte systématiquement après 1000, 10000, 20000, 50000, 80000 et 100000 parties. L'autre contient la même chose, mais pour un joueur qui ne change jamais de porte. Nous allons maintenant afficher les deux courbes correspondant à ces listes sur le même graphique. Remarquez que nous donnons deux arguments à  scatter. Le premier est la liste des abscisses."
      ]
    },
    {
      "cell_type": "code",
      "metadata": {
        "colab": {
          "base_uri": "https://localhost:8080/",
          "height": 265
        },
        "id": "ypFKVUspr--g",
        "outputId": "ae743df3-7f77-4b04-c7e9-c372e0a2178b"
      },
      "source": [
        "figure = plt.figure()\n",
        "plot = plt.scatter(samples, [sum(x)/samples[i] for i, x in enumerate(gains_changer)])\n",
        "plot = plt.scatter(samples, [sum(x)/samples[i] for i, x in enumerate(gains_garder)])"
      ],
      "execution_count": 38,
      "outputs": [
        {
          "output_type": "display_data",
          "data": {
            "image/png": "[encoded data removed]",
            "text/plain": [
              "<Figure size 432x288 with 1 Axes>"
            ]
          },
          "metadata": {
            "tags": [],
            "needs_background": "light"
          }
        }
      ]
    },
    {
      "cell_type": "code",
      "metadata": {
        "colab": {
          "base_uri": "https://localhost:8080/",
          "height": 265
        },
        "id": "vzGVRsTbsmuB",
        "outputId": "fb24742f-cf99-4061-bc54-7621e616759e"
      },
      "source": [
        "plot = plt.plot(samples, [sum(x) for x in gains_changer])\n",
        "plot = plt.plot(samples, [sum(x) for x in gains_garder])"
      ],
      "execution_count": 37,
      "outputs": [
        {
          "output_type": "display_data",
          "data": {
            "image/png": "[encoded data removed]",
            "text/plain": [
              "<Figure size 432x288 with 1 Axes>"
            ]
          },
          "metadata": {
            "tags": [],
            "needs_background": "light"
          }
        }
      ]
    },
    {
      "cell_type": "code",
      "metadata": {
        "id": "-9lwYIBLkpFG"
      },
      "source": [
        ""
      ],
      "execution_count": null,
      "outputs": []
    }
  ]
}